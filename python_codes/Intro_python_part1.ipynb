{
 "cells": [
  {
   "cell_type": "markdown",
   "metadata": {
    "id": "MYgnEnhUzwcj"
   },
   "source": [
    "# Welcome to Google Colab\n",
    "\n",
    "Colab is essentially Google's way of hosting a [jupyter notebook](https://jupyter.org/). A very popular tool to use as a data scientist!\n",
    "\n",
    "It allows us to write code, documentation, and output visuals all in one place.\n",
    "\n",
    "To be able to and edit the code in this workshop. Please make a copy for yourself\n",
    "\n",
    "`file > save a copy in drive`\n",
    "\n",
    "This should open a new tab with your own copy of this notebook. It can take a minute to load.\n",
    "\n",
    "Colab comes with a lot of great data science libraries pre-installed. We'll show to start working with them in part-2 | [RSVP here](https://www.eventbrite.com/e/webinar-intro-to-python-part-2-tickets-101843474574).\n",
    "\n",
    "Colab also gives you some options for running complicated computations such as training deep learning model. To see access those options:\n",
    "\n",
    "`Runtime > change runtime type` Select `GPU`, `TPU`, or `None`\n",
    "\n",
    "We don't need to change anything for this workshop, but its a great resource if you start learning deep learning and don't have a powerful GPU at home. \n",
    "\n",
    "This is a text cell. \n",
    "\n",
    "You can add a new text cell by clicking `+ Text` above. \n",
    "\n",
    "It does not highlight wrong spelling. I apologize for any typos!\n",
    "\n",
    "\n"
   ]
  },
  {
   "cell_type": "markdown",
   "metadata": {
    "id": "Y4IYN_PlmnKa"
   },
   "source": [
    "# hello\n",
    "\n"
   ]
  },
  {
   "cell_type": "markdown",
   "metadata": {
    "id": "0D6FH2Fazwot"
   },
   "source": [
    "### Code Cells\n",
    "\n",
    "Below is a code cell. There is nothing in it right now.\n",
    "\n",
    "To run a code cell click on it and then click the play button. Or press `shift+enter`\n",
    "\n",
    "You can add new code cells by clicking the ` + Code ` button above\n"
   ]
  },
  {
   "cell_type": "code",
   "execution_count": null,
   "metadata": {
    "id": "FHTJtZma2D3i"
   },
   "outputs": [],
   "source": []
  },
  {
   "cell_type": "code",
   "execution_count": null,
   "metadata": {
    "id": "qmYZHNxrm-4y"
   },
   "outputs": [],
   "source": []
  },
  {
   "cell_type": "markdown",
   "metadata": {
    "id": "kyQMUuU3sEpm"
   },
   "source": [
    "# Introduction to Python\n",
    "\n",
    "Time for some actual programming!"
   ]
  },
  {
   "cell_type": "markdown",
   "metadata": {
    "id": "kqv7z30_Tjfc"
   },
   "source": [
    "### Printing\n",
    "\n",
    "Everyone starts learning a new programming language by printing out the words \"Hello, World!\"\n",
    "\n",
    "We're no expception! \n",
    "\n",
    "We will be using the `print()` function in this workshop a lot.\n",
    "\n",
    "an indicator of a function is some text ending with `()`. We will cover functions and how to create our own in part 2. \n",
    "\n",
    "For now just know that we're passing a piece of data into another piece of code and its going to do something with it. \n",
    "\n",
    "In this case: Prints out the piece of data we passed in. \n"
   ]
  },
  {
   "cell_type": "code",
   "execution_count": 1,
   "metadata": {
    "colab": {
     "base_uri": "https://localhost:8080/"
    },
    "id": "mQzqQ7RxTAbE",
    "outputId": "1e04d566-e066-4f7f-b9ae-2e04fcb5f501"
   },
   "outputs": [
    {
     "name": "stdout",
     "output_type": "stream",
     "text": [
      "Hello Hello\n"
     ]
    }
   ],
   "source": [
    "# prints hello\n",
    "print(\"Hello Hello\")"
   ]
  },
  {
   "cell_type": "markdown",
   "metadata": {
    "id": "GtSg2IjJoGNT"
   },
   "source": []
  },
  {
   "cell_type": "markdown",
   "metadata": {
    "id": "YJHsshtnFumA"
   },
   "source": [
    "In colab you can remove the code output by clicking on the icon to the left of it."
   ]
  },
  {
   "cell_type": "markdown",
   "metadata": {
    "id": "gQPACcbOUP0p"
   },
   "source": [
    "### Comments\n",
    "\n",
    "Comments are a great way of documenting your code!\n",
    "\n",
    "They don't affect the output.\n",
    "\n",
    "You can create a comment using the `#` "
   ]
  },
  {
   "cell_type": "code",
   "execution_count": 3,
   "metadata": {
    "id": "c3ioanX3UTV7"
   },
   "outputs": [],
   "source": [
    "# This is a comment. It will not do anything as code\n",
    "# But it is super useful to document what your code is doing!\n"
   ]
  },
  {
   "cell_type": "markdown",
   "metadata": {
    "id": "oxwgisrITuSN"
   },
   "source": [
    "### Variables\n",
    "\n",
    "Think variables as a way to store information. This is super useful! You can then receive or update the variable in your program. You'll see this later!\n",
    "\n",
    "Think of it as naming a piece of data.\n",
    "\n",
    "its common in programming languages to have a keyword before the variable such as var or int, but python does not need this."
   ]
  },
  {
   "cell_type": "code",
   "execution_count": 2,
   "metadata": {
    "colab": {
     "base_uri": "https://localhost:8080/"
    },
    "id": "zBapGTEQTwTz",
    "outputId": "383313e2-113d-4e9b-ff92-402dc5cbb812"
   },
   "outputs": [
    {
     "name": "stdout",
     "output_type": "stream",
     "text": [
      "@sagecodes\n",
      "hello\n"
     ]
    }
   ],
   "source": [
    "twitter = \"@sagecodes\"\n",
    "\n",
    "print(twitter)\n",
    "\n",
    "twitter = \"hello\"\n",
    "\n",
    "print(twitter)"
   ]
  },
  {
   "cell_type": "markdown",
   "metadata": {
    "id": "3EG06J0GUC15"
   },
   "source": [
    "#### Challenge:\n",
    "Create a variable called `name` and assign it your name. Use the `print()` function to print out the variable value."
   ]
  },
  {
   "cell_type": "code",
   "execution_count": null,
   "metadata": {
    "colab": {
     "base_uri": "https://localhost:8080/",
     "height": 34
    },
    "id": "dJdbUcChUE1g",
    "outputId": "d3e7e22e-0a55-4b24-a953-5848dc952713"
   },
   "outputs": [],
   "source": [
    "# Write you Code Here!\n",
    "name = \"Sage\"\n",
    "\n",
    "print(name)"
   ]
  },
  {
   "cell_type": "markdown",
   "metadata": {
    "id": "HnYboIFeruCs"
   },
   "source": [
    "## Interact with users\n",
    "\n",
    "Getting input from the command line can be useful (and fun).\n",
    "\n",
    "To do that we will use the `input()` function. And we want to assign that input to a variable.\n",
    "\n",
    "`guess = input(\"enter your guess \")`\n",
    "\n",
    "\n"
   ]
  },
  {
   "cell_type": "code",
   "execution_count": 3,
   "metadata": {
    "colab": {
     "base_uri": "https://localhost:8080/",
     "height": 51
    },
    "id": "NxsyhKAeTb3u",
    "outputId": "651be006-4d0d-4fca-e04a-3f0ea76dbe9d"
   },
   "outputs": [
    {
     "name": "stdout",
     "output_type": "stream",
     "text": [
      "Input: \n"
     ]
    },
    {
     "data": {
      "text/plain": [
       "''"
      ]
     },
     "execution_count": 3,
     "metadata": {},
     "output_type": "execute_result"
    }
   ],
   "source": [
    "input(\"Input: \")"
   ]
  },
  {
   "cell_type": "code",
   "execution_count": 4,
   "metadata": {
    "colab": {
     "base_uri": "https://localhost:8080/",
     "height": 51
    },
    "id": "ne6TgdETrwZo",
    "outputId": "d3bcf764-4d2c-4e01-85a8-d849c01f3e93"
   },
   "outputs": [
    {
     "name": "stdout",
     "output_type": "stream",
     "text": [
      "enter some data: \n",
      "\n"
     ]
    }
   ],
   "source": [
    "# Assign input to a variable\n",
    "data = input(\"enter some data: \")\n",
    "\n",
    "print(data)"
   ]
  },
  {
   "cell_type": "markdown",
   "metadata": {
    "id": "X0nSfeB2uJJP"
   },
   "source": [
    "---\n",
    "### Challenge:\n",
    "\n",
    "Create a variable called `name` and ask a user for their name using the `input` function.\n",
    "\n",
    "Print out the name."
   ]
  },
  {
   "cell_type": "code",
   "execution_count": null,
   "metadata": {
    "colab": {
     "base_uri": "https://localhost:8080/",
     "height": 51
    },
    "id": "PxFtcjU9r0AW",
    "outputId": "0bbd3272-1d27-4a73-844c-970f2f72ef00"
   },
   "outputs": [
    {
     "name": "stdout",
     "output_type": "stream",
     "text": [
      "Whats your name? Sage\n",
      "Sage\n"
     ]
    }
   ],
   "source": [
    "# Your code here!\n",
    "\n",
    "name = input(\"Whats your name? \")\n",
    "print(name)"
   ]
  },
  {
   "cell_type": "markdown",
   "metadata": {
    "id": "9QKo9HPfU6Zj"
   },
   "source": [
    "### Data Types:\n",
    "\n",
    "We're going to stick with the basics, so We wont be going over EVERY data type in Python, but you you can read a more comprehensive list [here](https://docs.python.org/3/library/stdtypes.html).  \n",
    "\n",
    "Feel free to try these different data types out in your code!"
   ]
  },
  {
   "cell_type": "markdown",
   "metadata": {
    "id": "OsZZEqV2VlY6"
   },
   "source": [
    "#### Numbers:\n",
    "\n",
    "Numbers are written just like you would think. Just the number! No quotes or symbols to worry about. If you do put quotes around a number it will become a string (see next)\n",
    "\n",
    "`25` `100`\n",
    "\n",
    "Multiple, Add, Divide, Compare, remainder\n",
    "\n",
    "- `5 * 5` | output: 25\n",
    "- `5 + 5` | output: 10\n",
    "- `8 / 2` | output: 4\n",
    "- `8 > 2` | output: true\n",
    "- `8 % 8` | output: 0 \n"
   ]
  },
  {
   "cell_type": "code",
   "execution_count": null,
   "metadata": {
    "colab": {
     "base_uri": "https://localhost:8080/",
     "height": 34
    },
    "id": "37mwoGZ7qz1h",
    "outputId": "221c4fc6-a29a-49f4-9060-e572800be3c2"
   },
   "outputs": [
    {
     "data": {
      "text/plain": [
       "11"
      ]
     },
     "execution_count": 55,
     "metadata": {
      "tags": []
     },
     "output_type": "execute_result"
    }
   ],
   "source": [
    "5 + 6"
   ]
  },
  {
   "cell_type": "code",
   "execution_count": null,
   "metadata": {
    "colab": {
     "base_uri": "https://localhost:8080/",
     "height": 103
    },
    "id": "t6OLdoUSVNJw",
    "outputId": "bd1cad01-cacf-40b1-85d7-06546c22792a"
   },
   "outputs": [
    {
     "name": "stdout",
     "output_type": "stream",
     "text": [
      "25\n",
      "10\n",
      "2.5\n",
      "True\n",
      "0\n"
     ]
    }
   ],
   "source": [
    "print(5 * 5)\n",
    "print(5 + 5)\n",
    "print(5/2)\n",
    "print(8 > 2)\n",
    "print(8 % 8)"
   ]
  },
  {
   "cell_type": "code",
   "execution_count": null,
   "metadata": {
    "colab": {
     "base_uri": "https://localhost:8080/",
     "height": 34
    },
    "id": "mb0rRE6ros2h",
    "outputId": "c4e2f10c-3dee-4dec-8699-1a5185a07c25"
   },
   "outputs": [
    {
     "name": "stdout",
     "output_type": "stream",
     "text": [
      "2\n"
     ]
    }
   ],
   "source": [
    "print(5//2)"
   ]
  },
  {
   "cell_type": "code",
   "execution_count": null,
   "metadata": {
    "colab": {
     "base_uri": "https://localhost:8080/",
     "height": 34
    },
    "id": "5i05pxOhrkqT",
    "outputId": "744892df-90be-4b51-f068-2ae438bd6f70"
   },
   "outputs": [
    {
     "data": {
      "text/plain": [
       "2.5"
      ]
     },
     "execution_count": 61,
     "metadata": {
      "tags": []
     },
     "output_type": "execute_result"
    }
   ],
   "source": [
    "5 + 5\n",
    "5 /2"
   ]
  },
  {
   "cell_type": "markdown",
   "metadata": {
    "id": "pwE9BL9hV9KY"
   },
   "source": [
    "#### Strings:\n",
    "Strings can be a collection of letters, symbols and/or numbers. They are made by surrounding the content with quotation marks.\n",
    "\n",
    "`\"Hello, World.\"`\n",
    "\n",
    "`\"CrAzy Random String 987879896jvdjvda &&(&(@*(*\"`\n",
    "\n",
    "Escape character `\\` backslash can e used if you need a `'` in single quote string\n"
   ]
  },
  {
   "cell_type": "code",
   "execution_count": null,
   "metadata": {
    "colab": {
     "base_uri": "https://localhost:8080/",
     "height": 69
    },
    "id": "kLDsf4f7V9jo",
    "outputId": "57078aaf-d1b0-43c4-b632-a23c286b34fc"
   },
   "outputs": [
    {
     "name": "stdout",
     "output_type": "stream",
     "text": [
      "A string im ' Single quotes!\n",
      "A string i'm \" Double quotes!\n",
      "A string in ' \" Triple quotes!\n"
     ]
    }
   ],
   "source": [
    "# common ways of defining a string. \n",
    "# make sure you begin and end with same quotation set\n",
    "\n",
    "\n",
    "singlequote = 'A string im \\' Single quotes!'\n",
    "doublequote = \"A string i'm \\\" Double quotes!\"\n",
    "triplequote = '''A string in ' \" Triple quotes!'''\n",
    "\n",
    "print(singlequote)\n",
    "print(doublequote)\n",
    "print(triplequote)\n"
   ]
  },
  {
   "cell_type": "code",
   "execution_count": null,
   "metadata": {
    "colab": {
     "base_uri": "https://localhost:8080/",
     "height": 86
    },
    "id": "NQPL2kGAXtqM",
    "outputId": "1bb4f761-ad8b-4712-b6a7-742780ed3acb"
   },
   "outputs": [
    {
     "name": "stdout",
     "output_type": "stream",
     "text": [
      "A string ' in \n",
      "\" TLHLKHHL . \n",
      "LHLKHLK '\n",
      "Triple single quotes!\n"
     ]
    }
   ],
   "source": [
    "# If you're unsure what data will be in your string\n",
    "# Triple quotes is the safest to use\n",
    "# It will prevent a single or double quotation mark breaking the string\n",
    "\n",
    "triplesafe = '''A string ' in \n",
    "\" TLHLKHHL . \n",
    "LHLKHLK '\n",
    "Triple single quotes!'''\n",
    "\n",
    "\n",
    "\n",
    "print(triplesafe)"
   ]
  },
  {
   "cell_type": "code",
   "execution_count": null,
   "metadata": {
    "colab": {
     "base_uri": "https://localhost:8080/",
     "height": 34
    },
    "id": "oGM_4s3pXDbo",
    "outputId": "00adf077-143e-4e04-9d47-ce7052f5bb58"
   },
   "outputs": [
    {
     "name": "stdout",
     "output_type": "stream",
     "text": [
      "helloworld\n"
     ]
    }
   ],
   "source": [
    "# Can we add strings together? Try it out!\n",
    "\n",
    "string1 = \"hello\"\n",
    "string2 = \"world\"\n",
    "\n",
    "print(string1 + string2)"
   ]
  },
  {
   "cell_type": "markdown",
   "metadata": {
    "id": "b00_QaTCYGqq"
   },
   "source": [
    "##### Variables in strings\n",
    "\n",
    "Often we will want to add in variables to a string. \n",
    "\n",
    "Imagine having someones name, age, etc... populate into a string depending on the user.\n",
    "\n",
    "As you'll see below there are several ways of doing this!"
   ]
  },
  {
   "cell_type": "code",
   "execution_count": null,
   "metadata": {
    "id": "boBuZPDqYb-S"
   },
   "outputs": [],
   "source": [
    "# Lets create some variables to work with\n",
    "# Feel Free to change them or create your own!\n",
    "\n",
    "name = \"Alexa\"\n",
    "city = \"Seattle\"\n",
    "career = \"Programmer\"\n",
    "age = 40"
   ]
  },
  {
   "cell_type": "markdown",
   "metadata": {
    "id": "4zg8AYqCarfs"
   },
   "source": [
    "##### Concatenation\n",
    "\n",
    "You can add variables into string by breaking up the string into bits and adding a varible in between them. \n",
    "\n",
    "This gets pretty messy really fast. Its harder to change the sentence in the future, you have to add spaces at teh begining or or ends of strings. You have to convert numbers into strings if you want to use them."
   ]
  },
  {
   "cell_type": "code",
   "execution_count": null,
   "metadata": {
    "colab": {
     "base_uri": "https://localhost:8080/",
     "height": 34
    },
    "id": "pPDPmu5hZCNZ",
    "outputId": "7f683ec5-07ee-42b8-b2df-308226d82e12"
   },
   "outputs": [
    {
     "name": "stdout",
     "output_type": "stream",
     "text": [
      "Hello, my name is Alexa. I am Programmer in Seattle. I am 40 years old.\n"
     ]
    }
   ],
   "source": [
    "\n",
    "# concatenation \n",
    "concatstring =  \"Hello, my name is \" + name + \". I am \" + career + \" in \" + city + \". I am \" + str(age) + \" years old.\"\n",
    "\n",
    "print(concatstring)\n",
    "\n"
   ]
  },
  {
   "cell_type": "code",
   "execution_count": null,
   "metadata": {
    "colab": {
     "base_uri": "https://localhost:8080/",
     "height": 34
    },
    "id": "zOk20gPZYjhj",
    "outputId": "9a70f723-cfc3-4320-da97-ec2486eba89f"
   },
   "outputs": [
    {
     "name": "stdout",
     "output_type": "stream",
     "text": [
      "Hello, my name is Alexa. I am a Programmer in Seattle. I am 40 years old.\n"
     ]
    }
   ],
   "source": [
    "# More common way\n",
    "placeholderstring =  \"Hello, my name is {}. I am a {} in {}. I am {} years old.\".format(name, career, city, age)\n",
    "\n",
    "print(placeholderstring)\n",
    "\n"
   ]
  },
  {
   "cell_type": "code",
   "execution_count": null,
   "metadata": {
    "colab": {
     "base_uri": "https://localhost:8080/",
     "height": 34
    },
    "id": "6pQbnGaaZ5UN",
    "outputId": "97163fd5-14d2-449f-f6eb-4345cc25ab6c"
   },
   "outputs": [
    {
     "name": "stdout",
     "output_type": "stream",
     "text": [
      "Hello, my name is Seattle. I am a Programmer in 40. I am Alexa years old. Seattle\n"
     ]
    }
   ],
   "source": [
    "# you can specify which variable is used where\n",
    "placeholderorder =  \"Hello, my name is {2}. I am a {1} in {3}. I am {0} years old. {2}\".format(name, career,city, age)\n",
    "\n",
    "print(placeholderorder)"
   ]
  },
  {
   "cell_type": "code",
   "execution_count": null,
   "metadata": {
    "colab": {
     "base_uri": "https://localhost:8080/",
     "height": 34
    },
    "id": "qTRoiH9sZ5dZ",
    "outputId": "fa93c3ba-a368-4467-8484-a17b172b0e3a"
   },
   "outputs": [
    {
     "name": "stdout",
     "output_type": "stream",
     "text": [
      "Hello, my name is Alexa. I am a Programmer in Seattle. I am 40 years old. 40\n"
     ]
    }
   ],
   "source": [
    "# Fstring\n",
    "# My favorite way!\n",
    "\n",
    "fstring = f\"Hello, my name is {name}. I am a {career} in {city}. I am {age} years old. {age}\"\n",
    "\n",
    "print(fstring)"
   ]
  },
  {
   "cell_type": "code",
   "execution_count": null,
   "metadata": {
    "colab": {
     "base_uri": "https://localhost:8080/",
     "height": 34
    },
    "id": "fFj6mYJjQHMz",
    "outputId": "03296991-ac90-425b-b972-11ea47286f8e"
   },
   "outputs": [
    {
     "name": "stdout",
     "output_type": "stream",
     "text": [
      "This is the old way putting a variable in a string\n"
     ]
    }
   ],
   "source": [
    "# old way, don't use this. \n",
    "# showing because you may see it in the wild you know what its doing\n",
    "\n",
    "var = 'variable'\n",
    "print(\"This is the old way putting a %s in a string\" % var)\n"
   ]
  },
  {
   "cell_type": "markdown",
   "metadata": {
    "id": "kigsnxLHr7yk"
   },
   "source": [
    "---\n",
    "### Challenge:\n",
    "\n",
    "Using the `input()` function ask a user for there name. Then print out a sentence using the name. \n"
   ]
  },
  {
   "cell_type": "code",
   "execution_count": null,
   "metadata": {
    "colab": {
     "base_uri": "https://localhost:8080/",
     "height": 51
    },
    "id": "KojLpqJdr9lH",
    "outputId": "e68d594d-0cf5-42fb-da5e-c77176be1be8"
   },
   "outputs": [],
   "source": [
    "# Write you Code Here!\n",
    "name = input(\"Whats your name? \")\n",
    "print(f\"Hello {name}\")\n",
    "\n"
   ]
  },
  {
   "cell_type": "code",
   "execution_count": 4,
   "metadata": {
    "colab": {
     "base_uri": "https://localhost:8080/",
     "height": 51
    },
    "id": "qMdynZKGvQmH",
    "outputId": "5bbb72e0-b8a9-47c4-cc82-8affa7d4232e"
   },
   "outputs": [
    {
     "name": "stdout",
     "output_type": "stream",
     "text": [
      "hello \n",
      "Sage\n"
     ]
    }
   ],
   "source": [
    "print(\"hello \\nSage\")"
   ]
  },
  {
   "cell_type": "markdown",
   "metadata": {
    "id": "sgSlZNLsB3dB"
   },
   "source": [
    "Read more about strings [here](https://www.w3schools.com/python/python_strings.asp)."
   ]
  },
  {
   "cell_type": "markdown",
   "metadata": {
    "id": "F9SMiWYwdhna"
   },
   "source": [
    "#### Booleans:\n",
    "You can think of Booleans as yes(true) and no(false)\n",
    "\n",
    "`True` `False`\n",
    "\n",
    "We'll go into how to use these in a little bit. For now just remember they exist!\n"
   ]
  },
  {
   "cell_type": "code",
   "execution_count": null,
   "metadata": {
    "colab": {
     "base_uri": "https://localhost:8080/",
     "height": 34
    },
    "id": "ZY13X3NqBxzM",
    "outputId": "407f6a48-6b6c-4fa6-d812-1926b6e1b915"
   },
   "outputs": [
    {
     "name": "stdout",
     "output_type": "stream",
     "text": [
      "True\n"
     ]
    }
   ],
   "source": [
    "print(\"B\" > \"A\")"
   ]
  },
  {
   "cell_type": "markdown",
   "metadata": {
    "id": "HoBPgHysdl5_"
   },
   "source": [
    "#### Lists (Arrays)\n",
    "\n",
    "Lists start and end with `[]`\n",
    "\n",
    "\n",
    "used to store a list of values.\n",
    "\n",
    "The values are stored at an index. Indexing in python starts at 0."
   ]
  },
  {
   "cell_type": "code",
   "execution_count": null,
   "metadata": {
    "colab": {
     "base_uri": "https://localhost:8080/",
     "height": 34
    },
    "id": "DccibF3vdm4i",
    "outputId": "fb13be21-5809-4b90-ef6e-7f523685fb00"
   },
   "outputs": [
    {
     "name": "stdout",
     "output_type": "stream",
     "text": [
      "['West World', 'Mr. Robot', 'Game of Thrones']\n"
     ]
    }
   ],
   "source": [
    "tvshows = ['West World','Mr. Robot','Game of Thrones']\n",
    "print(tvshows)"
   ]
  },
  {
   "cell_type": "code",
   "execution_count": null,
   "metadata": {
    "colab": {
     "base_uri": "https://localhost:8080/",
     "height": 34
    },
    "id": "7ClMzUOydseB",
    "outputId": "d29795c3-5131-467b-a1ae-2a90128a26db"
   },
   "outputs": [
    {
     "name": "stdout",
     "output_type": "stream",
     "text": [
      "Game of Thrones\n"
     ]
    }
   ],
   "source": [
    "# print single item. Index starts at zero\n",
    "print(tvshows[2])"
   ]
  },
  {
   "cell_type": "code",
   "execution_count": null,
   "metadata": {
    "colab": {
     "base_uri": "https://localhost:8080/",
     "height": 69
    },
    "id": "gVZMIy2bdyEl",
    "outputId": "3483747f-0085-4aca-d73f-053234a5bb9a"
   },
   "outputs": [
    {
     "name": "stdout",
     "output_type": "stream",
     "text": [
      "killer robots\n",
      "killer robots\n",
      "['killer robots', 'Mr. Robot', 'Game of Thrones', 'FireFly']\n"
     ]
    }
   ],
   "source": [
    "# Update an item in an array\n",
    "print(tvshows[0])\n",
    "\n",
    "tvshows[0] = \"killer robots\"\n",
    "\n",
    "print(tvshows[0])\n",
    "\n",
    "print(tvshows)"
   ]
  },
  {
   "cell_type": "code",
   "execution_count": null,
   "metadata": {
    "colab": {
     "base_uri": "https://localhost:8080/",
     "height": 34
    },
    "id": "nAexCOzad2uw",
    "outputId": "6b941250-63d5-42df-9dc2-6a3e67cca327"
   },
   "outputs": [
    {
     "name": "stdout",
     "output_type": "stream",
     "text": [
      "['killer robots', 'Mr. Robot', 'FireFly', 'FireFly', 'FireFly', 'FireFly', 'FireFly', 'FireFly']\n"
     ]
    }
   ],
   "source": [
    "# Add to an array\n",
    "tvshows.append(\"FireFly\")\n",
    "print(tvshows)"
   ]
  },
  {
   "cell_type": "code",
   "execution_count": null,
   "metadata": {
    "colab": {
     "base_uri": "https://localhost:8080/",
     "height": 34
    },
    "id": "hXziRupfd60o",
    "outputId": "24837dfc-0e4f-401e-e49c-4be371aeaf6e"
   },
   "outputs": [
    {
     "name": "stdout",
     "output_type": "stream",
     "text": [
      "['killer robots', 'Mr. Robot', 'FireFly', 'FireFly', 'FireFly']\n"
     ]
    }
   ],
   "source": [
    "# Remove from an array | Season 8 :(\n",
    "tvshows.remove(tvshows[2])\n",
    "print(tvshows)"
   ]
  },
  {
   "cell_type": "code",
   "execution_count": null,
   "metadata": {
    "colab": {
     "base_uri": "https://localhost:8080/",
     "height": 34
    },
    "id": "rmywJcqhwV4E",
    "outputId": "67fbae5e-c3e0-4639-8747-4b2ba6574fb9"
   },
   "outputs": [
    {
     "data": {
      "text/plain": [
       "['killer robots', 'Mr. Robot', 'FireFly', 'FireFly', 'FireFly']"
      ]
     },
     "execution_count": 97,
     "metadata": {
      "tags": []
     },
     "output_type": "execute_result"
    }
   ],
   "source": [
    "tvshows"
   ]
  },
  {
   "cell_type": "code",
   "execution_count": null,
   "metadata": {
    "id": "Tq78SJCDd-_j"
   },
   "outputs": [],
   "source": []
  },
  {
   "cell_type": "code",
   "execution_count": null,
   "metadata": {
    "colab": {
     "base_uri": "https://localhost:8080/",
     "height": 155
    },
    "id": "O5Ba546B1LuJ",
    "outputId": "41f075ce-727c-48e3-b01e-828d5d490559"
   },
   "outputs": [
    {
     "data": {
      "text/plain": [
       "['killer robots',\n",
       " 'Mr. Robot',\n",
       " 'FireFly',\n",
       " 'FireFly',\n",
       " 'FireFly',\n",
       " 'FireFly',\n",
       " 'FireFly',\n",
       " 'FireFly']"
      ]
     },
     "execution_count": 101,
     "metadata": {
      "tags": []
     },
     "output_type": "execute_result"
    }
   ],
   "source": [
    "tvshows"
   ]
  },
  {
   "cell_type": "code",
   "execution_count": null,
   "metadata": {
    "id": "4dV3Clpix52O"
   },
   "outputs": [],
   "source": [
    "tvshows.insert(1, \"did this work\")"
   ]
  },
  {
   "cell_type": "code",
   "execution_count": null,
   "metadata": {
    "colab": {
     "base_uri": "https://localhost:8080/",
     "height": 172
    },
    "id": "4fkUmmUix58K",
    "outputId": "6c928612-c0e7-4d2f-e5a4-503e70c61736"
   },
   "outputs": [
    {
     "data": {
      "text/plain": [
       "['killer robots',\n",
       " 'did this work',\n",
       " 'Mr. Robot',\n",
       " 'FireFly',\n",
       " 'FireFly',\n",
       " 'FireFly',\n",
       " 'FireFly',\n",
       " 'FireFly',\n",
       " 'FireFly']"
      ]
     },
     "execution_count": 103,
     "metadata": {
      "tags": []
     },
     "output_type": "execute_result"
    }
   ],
   "source": [
    "tvshows"
   ]
  },
  {
   "cell_type": "code",
   "execution_count": null,
   "metadata": {
    "id": "2BcriJlmyFS8"
   },
   "outputs": [],
   "source": [
    "l = [2,1,3,4]"
   ]
  },
  {
   "cell_type": "code",
   "execution_count": null,
   "metadata": {
    "id": "MoVLIctpyIXf"
   },
   "outputs": [],
   "source": [
    "l.sort()"
   ]
  },
  {
   "cell_type": "code",
   "execution_count": null,
   "metadata": {
    "colab": {
     "base_uri": "https://localhost:8080/",
     "height": 34
    },
    "id": "kPbwui4HyO5c",
    "outputId": "f1c4c0d0-f8e6-4f68-d830-a0e3816998ad"
   },
   "outputs": [
    {
     "data": {
      "text/plain": [
       "[1, 2, 3, 4]"
      ]
     },
     "execution_count": 107,
     "metadata": {
      "tags": []
     },
     "output_type": "execute_result"
    }
   ],
   "source": [
    "l"
   ]
  },
  {
   "cell_type": "markdown",
   "metadata": {
    "id": "6o20ogou1KWN"
   },
   "source": [
    "Lists have a lot of functionality built in! You can read more about them [here](https://www.w3schools.com/python/python_lists.asp)\n",
    "\n",
    "---\n",
    "### Challenge:\n",
    "\n",
    "- Make an empty list and assign to variable `fav_foods`\n",
    "- add two items \n",
    "- print the 2nd item\n",
    "- remove the first item\n"
   ]
  },
  {
   "cell_type": "code",
   "execution_count": null,
   "metadata": {
    "id": "Frm5c8bW2C0h"
   },
   "outputs": [],
   "source": [
    "# Make an empty list and assign to variable `fav_foods`\n",
    "fav_foods = []"
   ]
  },
  {
   "cell_type": "code",
   "execution_count": null,
   "metadata": {
    "id": "GMM64Ig82iek"
   },
   "outputs": [],
   "source": [
    "# add one item\n",
    "fav_foods.append(\"tacos\")"
   ]
  },
  {
   "cell_type": "code",
   "execution_count": null,
   "metadata": {
    "id": "k4J9ZS062imB"
   },
   "outputs": [],
   "source": [
    "# add second item\n",
    "fav_foods.append(\"steak\")"
   ]
  },
  {
   "cell_type": "code",
   "execution_count": null,
   "metadata": {
    "colab": {
     "base_uri": "https://localhost:8080/",
     "height": 34
    },
    "id": "Xqz0n8Lv3AhR",
    "outputId": "475c4a5c-b8f7-436b-9af8-8fd3c6441674"
   },
   "outputs": [
    {
     "name": "stdout",
     "output_type": "stream",
     "text": [
      "['tacos', 'steak']\n"
     ]
    }
   ],
   "source": [
    "# print the 2nd item\n",
    "print(fav_foods)"
   ]
  },
  {
   "cell_type": "code",
   "execution_count": null,
   "metadata": {
    "colab": {
     "base_uri": "https://localhost:8080/",
     "height": 34
    },
    "id": "s-hevBB52iwX",
    "outputId": "24b0ebdf-453a-4427-f287-ed89d566f596"
   },
   "outputs": [
    {
     "name": "stdout",
     "output_type": "stream",
     "text": [
      "['steak']\n"
     ]
    }
   ],
   "source": [
    "# remove first item\n",
    "fav_foods.remove(fav_foods[0])\n",
    "print(fav_foods)"
   ]
  },
  {
   "cell_type": "markdown",
   "metadata": {
    "id": "ZMPgf3AsePWy"
   },
   "source": [
    "#### Tuples\n",
    "\n",
    "Tuples start and end with `()`\n",
    "\n",
    "Tuples behave a lot like lists, except you cannot change the values later in the code like we did in lists.\n",
    "\n",
    "\n"
   ]
  },
  {
   "cell_type": "code",
   "execution_count": null,
   "metadata": {
    "colab": {
     "base_uri": "https://localhost:8080/",
     "height": 34
    },
    "id": "xjHaP9LqeT3W",
    "outputId": "413beb5e-ad1c-417c-aa5d-8cef80981517"
   },
   "outputs": [
    {
     "name": "stdout",
     "output_type": "stream",
     "text": [
      "('West World', 'Mr. Robot', 'Game of Thrones')\n"
     ]
    }
   ],
   "source": [
    "tupleshows = ('West World','Mr. Robot', 'Game of Thrones')\n",
    "print(tupleshows)"
   ]
  },
  {
   "cell_type": "code",
   "execution_count": null,
   "metadata": {
    "colab": {
     "base_uri": "https://localhost:8080/",
     "height": 165
    },
    "id": "6YYX3xYZCVwx",
    "outputId": "c7c817bb-39c9-4072-ca17-d392f411229a"
   },
   "outputs": [
    {
     "ename": "AttributeError",
     "evalue": "ignored",
     "output_type": "error",
     "traceback": [
      "\u001b[0;31m---------------------------------------------------------------------------\u001b[0m",
      "\u001b[0;31mAttributeError\u001b[0m                            Traceback (most recent call last)",
      "\u001b[0;32m<ipython-input-128-51a211873fb9>\u001b[0m in \u001b[0;36m<module>\u001b[0;34m()\u001b[0m\n\u001b[0;32m----> 1\u001b[0;31m \u001b[0mtupleshows\u001b[0m\u001b[0;34m.\u001b[0m\u001b[0mappend\u001b[0m\u001b[0;34m(\u001b[0m\u001b[0;34m\"FireFly\"\u001b[0m\u001b[0;34m)\u001b[0m\u001b[0;34m\u001b[0m\u001b[0;34m\u001b[0m\u001b[0m\n\u001b[0m",
      "\u001b[0;31mAttributeError\u001b[0m: 'tuple' object has no attribute 'append'"
     ]
    }
   ],
   "source": [
    "# cannot add value\n",
    "tupleshows.append(\"FireFly\")"
   ]
  },
  {
   "cell_type": "markdown",
   "metadata": {
    "id": "w5WHxKRIeqBg"
   },
   "source": [
    "#### Dictionary (Dict)\n",
    "\n",
    "Dictionaries start and end with `{}`\n",
    "\n",
    "Dictionaries are used to store values in a whats called a key value pair format\n",
    "\n",
    "`{ key: value }`\n"
   ]
  },
  {
   "cell_type": "code",
   "execution_count": null,
   "metadata": {
    "id": "KAiOYzfAYfh_"
   },
   "outputs": [],
   "source": [
    "dictionary = {\"key\":\"value\"}"
   ]
  },
  {
   "cell_type": "code",
   "execution_count": null,
   "metadata": {
    "colab": {
     "base_uri": "https://localhost:8080/",
     "height": 34
    },
    "id": "iXmujRq0Ytky",
    "outputId": "372567af-28d1-45a6-dcf2-822b8bd22556"
   },
   "outputs": [
    {
     "name": "stdout",
     "output_type": "stream",
     "text": [
      "value\n"
     ]
    }
   ],
   "source": [
    "print(dictionary[\"key\"])"
   ]
  },
  {
   "cell_type": "code",
   "execution_count": null,
   "metadata": {
    "colab": {
     "base_uri": "https://localhost:8080/",
     "height": 34
    },
    "id": "9D7nhJ6beqTa",
    "outputId": "69366f4c-5871-478a-b7f8-deca113ab0f4"
   },
   "outputs": [
    {
     "name": "stdout",
     "output_type": "stream",
     "text": [
      "programmer\n"
     ]
    }
   ],
   "source": [
    "# a Dictionary with multiple key value pairs \n",
    "person =\t{\n",
    "  \"name\": \"\",\n",
    "  \"age\": 50,\n",
    "  \"occupation\": 'programmer'\n",
    "}\n",
    "\n",
    "# print(person)\n",
    "print(person['occupation'])"
   ]
  },
  {
   "cell_type": "code",
   "execution_count": null,
   "metadata": {
    "colab": {
     "base_uri": "https://localhost:8080/",
     "height": 69
    },
    "id": "pMMKc36meuwk",
    "outputId": "8805dfd1-a091-4766-9b80-2e011ec50d95"
   },
   "outputs": [
    {
     "name": "stdout",
     "output_type": "stream",
     "text": [
      "\n",
      "whats your name? Sage\n",
      "Sage\n"
     ]
    }
   ],
   "source": [
    "# Update\n",
    "print(person['name'])\n",
    "\n",
    "person['name'] = input(\"whats your name? \")\n",
    "\n",
    "print(person['name'])"
   ]
  },
  {
   "cell_type": "code",
   "execution_count": null,
   "metadata": {
    "colab": {
     "base_uri": "https://localhost:8080/",
     "height": 34
    },
    "id": "B-rR-RPDxhHr",
    "outputId": "b0900358-8382-419f-8181-7d124512711d"
   },
   "outputs": [
    {
     "name": "stdout",
     "output_type": "stream",
     "text": [
      "{'name': 'Sage', 'age': 50, 'occupation': 'programmer'}\n"
     ]
    }
   ],
   "source": [
    "print(person)"
   ]
  },
  {
   "cell_type": "code",
   "execution_count": null,
   "metadata": {
    "colab": {
     "base_uri": "https://localhost:8080/",
     "height": 34
    },
    "id": "S1tgpL1feycl",
    "outputId": "9e89e597-2e32-4627-f432-dacfb59ed007"
   },
   "outputs": [
    {
     "name": "stdout",
     "output_type": "stream",
     "text": [
      "{'name': 'Sage', 'age': 50, 'occupation': 'programmer', 'city': 'Seattle'}\n"
     ]
    }
   ],
   "source": [
    "# add \n",
    "person['city'] = 'Seattle'  \n",
    "print(person)"
   ]
  },
  {
   "cell_type": "code",
   "execution_count": null,
   "metadata": {
    "colab": {
     "base_uri": "https://localhost:8080/",
     "height": 34
    },
    "id": "_fy1mRf2e1xR",
    "outputId": "b3a2aa56-5678-4062-aee6-e01ac6e67c64"
   },
   "outputs": [
    {
     "name": "stdout",
     "output_type": "stream",
     "text": [
      "{'name': 'Sage', 'occupation': 'programmer', 'city': 'Seattle'}\n"
     ]
    }
   ],
   "source": [
    "# Remove\n",
    "del person['age']\n",
    "print(person)"
   ]
  },
  {
   "cell_type": "markdown",
   "metadata": {
    "id": "qV_8vpIGe6FX"
   },
   "source": [
    "read more about python dictionaries [here](https://www.w3schools.com/python/python_dictionaries.asp)."
   ]
  },
  {
   "cell_type": "markdown",
   "metadata": {
    "id": "Bs9pZk1zDLvB"
   },
   "source": [
    "---\n",
    "### Challenge:\n",
    "\n",
    "\n",
    "- Make a dictionary {} with key values pairs. `name`, `age`, an d `city`.\n",
    "- Print out the name and city values. \n",
    "\n",
    "Feel free to mess around more! try adding or updating items"
   ]
  },
  {
   "cell_type": "code",
   "execution_count": null,
   "metadata": {
    "id": "tXpA80w13u9J"
   },
   "outputs": [],
   "source": [
    "# Make a dictionary {} with key values pairs. name, age, an d city.\n",
    "person = {\"name\":\"Sage\",\n",
    "          \"age\":29,\n",
    "          \"city\":\"Seattle\"}\n"
   ]
  },
  {
   "cell_type": "code",
   "execution_count": null,
   "metadata": {
    "colab": {
     "base_uri": "https://localhost:8080/",
     "height": 51
    },
    "id": "XJwIlq963wBs",
    "outputId": "d8b5d13b-705b-4a4d-84e9-43f8d0dc2ad8"
   },
   "outputs": [
    {
     "name": "stdout",
     "output_type": "stream",
     "text": [
      "Sage\n",
      "Seattle\n"
     ]
    }
   ],
   "source": [
    "# Print out the name and city values.\n",
    "\n",
    "print(person[\"name\"])\n",
    "print(person[\"city\"])"
   ]
  },
  {
   "cell_type": "markdown",
   "metadata": {
    "id": "OMVAgJ05e-Nk"
   },
   "source": [
    "### Lists + Dicts "
   ]
  },
  {
   "cell_type": "code",
   "execution_count": null,
   "metadata": {
    "colab": {
     "base_uri": "https://localhost:8080/",
     "height": 34
    },
    "id": "S-Sa2w4xe6YP",
    "outputId": "7d2e7585-f733-4f14-b650-fe54fe3a02ba"
   },
   "outputs": [
    {
     "name": "stdout",
     "output_type": "stream",
     "text": [
      "Chicago\n"
     ]
    }
   ],
   "source": [
    "# Access a dict inside a list:\n",
    "\n",
    "lis = [{'name': \"sage\", 'city': \"Seattle\"}, {'name': \"Amanda\", 'city': \"New York\"}, {'name': \"Albert\", 'city': \"Chicago\"}]\n",
    "\n",
    "print(lis[2]['city'])"
   ]
  },
  {
   "cell_type": "code",
   "execution_count": null,
   "metadata": {
    "colab": {
     "base_uri": "https://localhost:8080/",
     "height": 34
    },
    "id": "zHOKiBR3fGYI",
    "outputId": "25408a92-2297-4fc8-c7e6-cfe662ecf07c"
   },
   "outputs": [
    {
     "name": "stdout",
     "output_type": "stream",
     "text": [
      "Mr. Robot\n"
     ]
    }
   ],
   "source": [
    "# Access a list inside of a dict:\n",
    "profile = {'name': \"Sage\", 'fav_shows': ['West World','Mr. Robot', 'Game of Thrones']}\n",
    "\n",
    "print(profile['fav_shows'][1])"
   ]
  },
  {
   "cell_type": "markdown",
   "metadata": {
    "id": "sOsgzQHfgB6d"
   },
   "source": [
    "---\n",
    "### QUIZ:\n",
    "\n",
    "- What type of data would age be?\n",
    "- What type of data would a name be?\n",
    "- What type of data would a list of foods be?\n",
    "- What type of data would we use to store a profile of a user?\n",
    "- What type of data could we use for yes or no?\n",
    "- what type of data should a zip-code be?\n",
    "\n",
    "check data type with `type` function"
   ]
  },
  {
   "cell_type": "code",
   "execution_count": null,
   "metadata": {
    "id": "-IjFcvDsDOY8"
   },
   "outputs": [],
   "source": []
  },
  {
   "cell_type": "markdown",
   "metadata": {
    "id": "JY8vHbArgYl9"
   },
   "source": [
    "## Comparison Operators:\n",
    "Comparison Operators are used quite frequently in programming. Its a great way to compare and use data to make descisions.\n",
    "\n",
    "Again we won't cover ALL of the comparison operators in this workshop, but you can see a full list of them [here](https://docs.python.org/3/library/stdtypes.html#comparisons)\n",
    "\n",
    "- `==` Equal\n",
    "- `!=` Not Equal\n",
    "- `>` Greater Than\n",
    "- `>=` Greater Than or Equal\n",
    "- `<` Less Than\n",
    "- `<=` Less Than or Equal\n",
    "\n",
    "Example:\n",
    "\n",
    "`current_score >= highest_score`\n",
    "This would return a boolean value. Depending on the values of these variables this would return either `True` or `False`. Try it in your console using numbers instead of variables!"
   ]
  },
  {
   "cell_type": "code",
   "execution_count": null,
   "metadata": {
    "colab": {
     "base_uri": "https://localhost:8080/",
     "height": 120
    },
    "id": "jNp-me_Jgd0C",
    "outputId": "6f909f60-320d-4d7b-d1b9-1c1b9ceca84c"
   },
   "outputs": [
    {
     "name": "stdout",
     "output_type": "stream",
     "text": [
      "True\n",
      "False\n",
      "True\n",
      "True\n",
      "True\n",
      "True\n"
     ]
    }
   ],
   "source": [
    "print(8 == 8)\n",
    "print(8 != 8)\n",
    "print(8 > 2)\n",
    "print(8 >= 8)\n",
    "print(8 < 12)\n",
    "print(8 <= 8)"
   ]
  },
  {
   "cell_type": "markdown",
   "metadata": {
    "id": "g2FVATrlgeU0"
   },
   "source": [
    "## Spacing\n",
    "most of the upcoming examples you'll see parts of the code indented.\n",
    "This lets python know when blocks of code begin & end. I'll explain as we go through examples. Just remember that spacing is important and it can cause issues with your code working."
   ]
  },
  {
   "cell_type": "markdown",
   "metadata": {
    "id": "iCT4TXkQgk0e"
   },
   "source": [
    "## Conditionals\n",
    "\n",
    "When writing a program you'll often want to check if data meets a certain condition or not. We can use conditionals to make decision about our data and create different outcomes\n",
    "\n",
    " In javascript you'll often use the `if` statement. This may be followed by `else if` or `else` depending on how many conditions need to be checked.\n",
    "\n",
    "Example:\n"
   ]
  },
  {
   "cell_type": "code",
   "execution_count": null,
   "metadata": {
    "colab": {
     "base_uri": "https://localhost:8080/",
     "height": 34
    },
    "id": "wSZF0X_-goXe",
    "outputId": "2705d8bc-a47a-46bc-9692-f958e48ece57"
   },
   "outputs": [
    {
     "name": "stdout",
     "output_type": "stream",
     "text": [
      "your guess is too high!\n"
     ]
    }
   ],
   "source": [
    "guess = 9\n",
    "answer = 5\n",
    "\n",
    "if guess == answer:\n",
    "  message = \"You Win!\"\n",
    "elif guess < answer:\n",
    "  message = \"Your guess is too low!\"\n",
    "elif guess > answer:\n",
    "  message = \"your guess is too high!\";\n",
    "else:\n",
    "    message = \"I think you entered something wrong...\"\n",
    "    \n",
    "print(message)"
   ]
  },
  {
   "cell_type": "markdown",
   "metadata": {
    "id": "gtvb7euOgor_"
   },
   "source": [
    "### Multiple Conditionals\n",
    "\n",
    "Use the keyword `and` or `or` between muliple conditionals. \n",
    "\n",
    "`or` if you want to run code when either condition is met\n",
    "\n",
    "`if i == 0 or i == 1:`\n",
    "\n",
    "`and` if you want to run the code when all conditions are met.\n",
    "\n",
    "`if i == 0 and x == 4:`\n"
   ]
  },
  {
   "cell_type": "code",
   "execution_count": null,
   "metadata": {
    "colab": {
     "base_uri": "https://localhost:8080/",
     "height": 34
    },
    "id": "8KB9x65wgpGL",
    "outputId": "c7971e0b-3f9b-41c9-ead7-90e698fd6c2a"
   },
   "outputs": [
    {
     "name": "stdout",
     "output_type": "stream",
     "text": [
      "If ran\n"
     ]
    }
   ],
   "source": [
    "i = 0\n",
    "x = 6\n",
    "\n",
    "if i == 1 or x == 6:\n",
    "  message = \"If ran\"\n",
    "else:\n",
    "  message = \"Else ran\"\n",
    "  \n",
    "print(message)"
   ]
  },
  {
   "cell_type": "code",
   "execution_count": null,
   "metadata": {
    "colab": {
     "base_uri": "https://localhost:8080/",
     "height": 131
    },
    "id": "HNLqM3hh0FOP",
    "outputId": "6b83bc17-ae09-466d-86dc-b1536a2d6002"
   },
   "outputs": [
    {
     "ename": "IndentationError",
     "evalue": "ignored",
     "output_type": "error",
     "traceback": [
      "\u001b[0;36m  File \u001b[0;32m\"<ipython-input-163-ea53374184ef>\"\u001b[0;36m, line \u001b[0;32m5\u001b[0m\n\u001b[0;31m    message = \"If ran\"\u001b[0m\n\u001b[0m          ^\u001b[0m\n\u001b[0;31mIndentationError\u001b[0m\u001b[0;31m:\u001b[0m expected an indented block\n"
     ]
    }
   ],
   "source": [
    "i = 0\n",
    "x = 7\n",
    "\n",
    "if i == 0 and x == 4:\n",
    "  message = \"If ran\"\n",
    "else:\n",
    "  message = \"Else ran\"\n",
    "  hshs\n",
    "  ljskl\n",
    "  \n",
    "print(message)"
   ]
  },
  {
   "cell_type": "markdown",
   "metadata": {
    "id": "y2zxg_elgrl5"
   },
   "source": [
    "### challenge\n",
    "\n",
    "- make a variable with with a numerical value. \n",
    "- using the `if`, `elif`, and `else` make your program print something different depending on the value in your variable."
   ]
  },
  {
   "cell_type": "code",
   "execution_count": null,
   "metadata": {
    "id": "zt-FOebtgsB3"
   },
   "outputs": [],
   "source": [
    "# your code here:\n",
    "\n"
   ]
  },
  {
   "cell_type": "markdown",
   "metadata": {
    "id": "UM_gFmEpg1Ub"
   },
   "source": [
    "## Loops\n",
    "We're going to go over some of the basic loops in python, but yet again we're not going to cover everything, so you may want to read more about loops [here](https://www.learnpython.org/en/Loops).\n",
    "\n",
    "Loops are used when you want to repeat something. You can repeat the exact same thing, or change some variable and repeat the action again.\n",
    "\n",
    "the two common types of loops are `for` and `while`.\n",
    "`for` loops are often used to run a loop a specified amount of time.\n",
    "\n",
    "`while` loops are often used to run a loop indefinitely until certain criteria are met.\n",
    "\n"
   ]
  },
  {
   "cell_type": "markdown",
   "metadata": {
    "id": "H6uTW8BWhUbt"
   },
   "source": [
    "For loops:"
   ]
  },
  {
   "cell_type": "code",
   "execution_count": null,
   "metadata": {
    "colab": {
     "base_uri": "https://localhost:8080/",
     "height": 103
    },
    "id": "WoAZtp2Lg4RI",
    "outputId": "1a264646-9e8f-4905-b0a3-7e0db67608ec"
   },
   "outputs": [
    {
     "name": "stdout",
     "output_type": "stream",
     "text": [
      "0\n",
      "1\n",
      "2\n",
      "3\n",
      "4\n"
     ]
    }
   ],
   "source": [
    "#This `for` loop will run 5 times, and print out the value of `x` to the console. \n",
    "\n",
    "for bumber in range(5):\n",
    "    print(bumber)"
   ]
  },
  {
   "cell_type": "markdown",
   "metadata": {
    "id": "cRRy74UxhApM"
   },
   "source": [
    "For loops are often used to loop through variables containing lists and dicts to get the individual values stored in them. We'll look at this soon!"
   ]
  },
  {
   "cell_type": "markdown",
   "metadata": {
    "id": "yO_-BxeghLwg"
   },
   "source": [
    "read more on for loops [here](https://www.w3schools.com/python/python_for_loops.asp)"
   ]
  },
  {
   "cell_type": "markdown",
   "metadata": {
    "id": "hgzxUhBshO4i"
   },
   "source": [
    "while loop:"
   ]
  },
  {
   "cell_type": "code",
   "execution_count": null,
   "metadata": {
    "colab": {
     "base_uri": "https://localhost:8080/",
     "height": 103
    },
    "id": "J0u3jo0ShMI2",
    "outputId": "b1270059-cb19-4f08-c87d-857d173a40e3"
   },
   "outputs": [
    {
     "name": "stdout",
     "output_type": "stream",
     "text": [
      "1\n",
      "2\n",
      "3\n",
      "4\n",
      "5\n"
     ]
    }
   ],
   "source": [
    "count = 1\n",
    "\n",
    "while count <= 5:\n",
    "    print(count)\n",
    "    count += 1  # This is the same as count = count + 1"
   ]
  },
  {
   "cell_type": "code",
   "execution_count": null,
   "metadata": {
    "colab": {
     "base_uri": "https://localhost:8080/",
     "height": 327
    },
    "id": "7byYTD6gEjtA",
    "outputId": "74f98261-173b-41a1-ef71-91df035aa126"
   },
   "outputs": [
    {
     "name": "stdout",
     "output_type": "stream",
     "text": [
      "Enter the correct password: hello\n",
      "Enter the correct password: e\n",
      "Enter the correct password: \n",
      "Enter the correct password: f\n",
      "Enter the correct password: \n",
      "Enter the correct password: \n",
      "Enter the correct password: \n",
      "Enter the correct password: \n",
      "Enter the correct password: \n",
      "Enter the correct password: \n",
      "Enter the correct password: \n",
      "Enter the correct password: f\n",
      "Enter the correct password: \n",
      "Enter the correct password: \n",
      "Enter the correct password: \n",
      "Enter the correct password: f\n",
      "Enter the correct password: password\n",
      "you entered the right password\n"
     ]
    }
   ],
   "source": [
    "pw = 'password'\n",
    "user_input = ''\n",
    "\n",
    "while user_input != pw:\n",
    "    user_input = input(\"Enter the correct password: \")\n",
    "\n",
    "print(\"you entered the right password\")"
   ]
  },
  {
   "cell_type": "markdown",
   "metadata": {
    "id": "GCwOE08Bhaxn"
   },
   "source": [
    "read more on while loops [here](https://www.w3schools.com/python/python_while_loops.asp)"
   ]
  },
  {
   "cell_type": "markdown",
   "metadata": {
    "id": "n5vbjI_Vhe5j"
   },
   "source": [
    "### challenge\n",
    "[Fizzbuzz](https://en.wikipedia.org/wiki/Fizz_buzz) and variations of it is a popular interview question. \n",
    "\n",
    "\"From 1 to 100.\n",
    "\n",
    "For each multiple of 3, print \"Fizz\" instead of the number. \n",
    "\n",
    "For each multiple of 5, print \"Buzz\" instead of the number. \n",
    "\n",
    "For numbers which are multiples of both 3 and 5, print \"FizzBuzz\" instead of the number.\"\n",
    "\n",
    "Lets break it down and solve it together!\n"
   ]
  },
  {
   "cell_type": "code",
   "execution_count": null,
   "metadata": {
    "colab": {
     "base_uri": "https://localhost:8080/",
     "height": 1000
    },
    "id": "6UY4wED-hbKM",
    "outputId": "3d43cade-0e6c-44be-c49a-a43f88e6625d"
   },
   "outputs": [
    {
     "name": "stdout",
     "output_type": "stream",
     "text": [
      "1\n",
      "2\n",
      "fizz\n",
      "4\n",
      "Buzz\n",
      "fizz\n",
      "7\n",
      "8\n",
      "fizz\n",
      "Buzz\n",
      "11\n",
      "fizz\n",
      "13\n",
      "14\n",
      "FizzBuzz\n",
      "16\n",
      "17\n",
      "fizz\n",
      "19\n",
      "Buzz\n",
      "fizz\n",
      "22\n",
      "23\n",
      "fizz\n",
      "Buzz\n",
      "26\n",
      "fizz\n",
      "28\n",
      "29\n",
      "FizzBuzz\n",
      "31\n",
      "32\n",
      "fizz\n",
      "34\n",
      "Buzz\n",
      "fizz\n",
      "37\n",
      "38\n",
      "fizz\n",
      "Buzz\n",
      "41\n",
      "fizz\n",
      "43\n",
      "44\n",
      "FizzBuzz\n",
      "46\n",
      "47\n",
      "fizz\n",
      "49\n",
      "Buzz\n",
      "fizz\n",
      "52\n",
      "53\n",
      "fizz\n",
      "Buzz\n",
      "56\n",
      "fizz\n",
      "58\n",
      "59\n",
      "FizzBuzz\n",
      "61\n",
      "62\n",
      "fizz\n",
      "64\n",
      "Buzz\n",
      "fizz\n",
      "67\n",
      "68\n",
      "fizz\n",
      "Buzz\n",
      "71\n",
      "fizz\n",
      "73\n",
      "74\n",
      "FizzBuzz\n",
      "76\n",
      "77\n",
      "fizz\n",
      "79\n",
      "Buzz\n",
      "fizz\n",
      "82\n",
      "83\n",
      "fizz\n",
      "Buzz\n",
      "86\n",
      "fizz\n",
      "88\n",
      "89\n",
      "FizzBuzz\n",
      "91\n",
      "92\n",
      "fizz\n",
      "94\n",
      "Buzz\n",
      "fizz\n",
      "97\n",
      "98\n",
      "fizz\n",
      "Buzz\n"
     ]
    }
   ],
   "source": [
    "# Lets do fizzbuzz!\n",
    "# How should break down this problem and start?\n",
    "\n",
    "# One hint: We're going to use range() function that will help us say how many times we want to iterate over something\n",
    "\n",
    "for num in range(1,101):\n",
    "  if num % 3 == 0 and num % 5 == 0:\n",
    "    print(\"FizzBuzz\")\n",
    "  elif num % 5 == 0:\n",
    "    print(\"Buzz\")\n",
    "  elif num % 3 == 0:\n",
    "    print(\"fizz\")\n",
    "  else:\n",
    "    print(num)\n"
   ]
  },
  {
   "cell_type": "markdown",
   "metadata": {
    "id": "89O-nogVjDjE"
   },
   "source": [
    "## Iterating\n",
    "\n",
    "Now that we know about loops lets talk a bit more about iteration! \n",
    "\n",
    "Many objects may have data we want to iterate through to do something with it. Common iterables: Strings, Lists, Dicts, tuples.\n",
    "\n"
   ]
  },
  {
   "cell_type": "code",
   "execution_count": null,
   "metadata": {
    "colab": {
     "base_uri": "https://localhost:8080/",
     "height": 69
    },
    "id": "Vew6y2sTjJ4R",
    "outputId": "1c3d2a8a-15df-48bb-ee59-8559563dd89b"
   },
   "outputs": [
    {
     "name": "stdout",
     "output_type": "stream",
     "text": [
      "West World\n",
      "Mr. Robot\n",
      "Game of Thrones\n"
     ]
    }
   ],
   "source": [
    "#lists:\n",
    "\n",
    "tvshows = ['West World','Mr. Robot', 'Game of Thrones']\n",
    "\n",
    "for x in tvshows:\n",
    "\tprint(x)\n"
   ]
  },
  {
   "cell_type": "code",
   "execution_count": null,
   "metadata": {
    "colab": {
     "base_uri": "https://localhost:8080/",
     "height": 103
    },
    "id": "OoCjOrChjJCb",
    "outputId": "a9a9117b-a1e1-4eb7-d452-89d974a78005"
   },
   "outputs": [
    {
     "name": "stdout",
     "output_type": "stream",
     "text": [
      "h\n",
      "e\n",
      "l\n",
      "l\n",
      "o\n"
     ]
    }
   ],
   "source": [
    "# String\n",
    "\n",
    "word = \"hello\"\n",
    "\n",
    "for x in word:\n",
    "\tprint(x)"
   ]
  },
  {
   "cell_type": "code",
   "execution_count": null,
   "metadata": {
    "colab": {
     "base_uri": "https://localhost:8080/",
     "height": 69
    },
    "id": "FJQkzc2ijF5U",
    "outputId": "939188d3-ae21-46f9-a01c-4023d3c3aba3"
   },
   "outputs": [
    {
     "name": "stdout",
     "output_type": "stream",
     "text": [
      "Bob\n",
      "50\n",
      "programmer\n"
     ]
    }
   ],
   "source": [
    "#Dictionaries \n",
    "\n",
    "person =\t{\n",
    "  \"name\": \"Bob\",\n",
    "  \"age\": 50,\n",
    "  \"occupation\": 'programmer'\n",
    "}\n",
    "\n",
    "# get the values\n",
    "for x in person:\n",
    "\tprint(person[x])\n",
    "\t\n"
   ]
  },
  {
   "cell_type": "code",
   "execution_count": null,
   "metadata": {
    "colab": {
     "base_uri": "https://localhost:8080/",
     "height": 69
    },
    "id": "_lB6gbbrjdG4",
    "outputId": "06765de3-a857-4295-a58c-8646f70742b5"
   },
   "outputs": [
    {
     "name": "stdout",
     "output_type": "stream",
     "text": [
      "name\n",
      "age\n",
      "occupation\n"
     ]
    }
   ],
   "source": [
    "# get the keys from dict\n",
    "for x in person:\n",
    "\tprint(x)\n",
    "\t"
   ]
  },
  {
   "cell_type": "code",
   "execution_count": null,
   "metadata": {
    "colab": {
     "base_uri": "https://localhost:8080/",
     "height": 34
    },
    "id": "OSiFql8n0_gl",
    "outputId": "dd1b0a14-a491-4338-9403-9f580bdec834"
   },
   "outputs": [
    {
     "data": {
      "text/plain": [
       "dict_keys(['name', 'age', 'occupation'])"
      ]
     },
     "execution_count": 180,
     "metadata": {
      "tags": []
     },
     "output_type": "execute_result"
    }
   ],
   "source": [
    "person.keys()"
   ]
  },
  {
   "cell_type": "markdown",
   "metadata": {
    "id": "Qj33B_ovClbc"
   },
   "source": [
    "## Slicing\n",
    "\n",
    "We won't go too deep into this in this workshop but I want to introduce the idea of slicing.\n",
    "\n",
    "This can be used to access specific indexes of sequences like strings, and lists.\n"
   ]
  },
  {
   "cell_type": "code",
   "execution_count": null,
   "metadata": {
    "id": "jK43Iob-DDZh"
   },
   "outputs": [],
   "source": [
    "string = \"batman\""
   ]
  },
  {
   "cell_type": "code",
   "execution_count": null,
   "metadata": {
    "colab": {
     "base_uri": "https://localhost:8080/",
     "height": 34
    },
    "id": "Q3VDmIyZDDbo",
    "outputId": "6752173b-ba73-409b-bad3-a0a3ed05f4dc"
   },
   "outputs": [
    {
     "name": "stdout",
     "output_type": "stream",
     "text": [
      "man\n"
     ]
    }
   ],
   "source": [
    "# instead of only accesing one value string[0]\n",
    "# We can access a range of values\n",
    "print(string[3:6])"
   ]
  },
  {
   "cell_type": "code",
   "execution_count": null,
   "metadata": {
    "id": "z6VuQsy1DDgE"
   },
   "outputs": [],
   "source": [
    "array = ['hulu','netflix','HBO','Disney']"
   ]
  },
  {
   "cell_type": "code",
   "execution_count": null,
   "metadata": {
    "colab": {
     "base_uri": "https://localhost:8080/",
     "height": 34
    },
    "id": "PthwoaPqDDeD",
    "outputId": "70d0314a-a570-42e5-cdd2-ee08adfc8d5b"
   },
   "outputs": [
    {
     "name": "stdout",
     "output_type": "stream",
     "text": [
      "['hulu', 'netflix', 'HBO']\n"
     ]
    }
   ],
   "source": [
    "print(array[0:3])"
   ]
  },
  {
   "cell_type": "markdown",
   "metadata": {
    "id": "-U7r9VqilUF-"
   },
   "source": [
    "### Guessing game\n",
    "\n",
    "Another example of putting things together\n"
   ]
  },
  {
   "cell_type": "code",
   "execution_count": null,
   "metadata": {
    "id": "HOEBpBD3lX-D"
   },
   "outputs": [],
   "source": [
    "import random # we will cover importing libraries in next class!\n",
    "\n",
    "number = random.randint(1, 10)\n",
    "guess_count = 1\n",
    "guesses = 5\n",
    "\n",
    "\n",
    "# start while \n",
    "while True:\n",
    "  \n",
    "  guess = int(input(\"Guess the random number between 1 & 10: \"))\n",
    "  \n",
    "  if guess == number:\n",
    "    print(\"You got it! Great job!\")\n",
    "    break\n",
    "  \n",
    "  elif guess_count == 5:\n",
    "    print(\"you lose\")\n",
    "    break\n",
    "\n",
    "  elif guess < number:\n",
    "    print(\"Try something higher... you have {} guesses remaining!\".format(guesses - guess_count))\n",
    "    guess_count = guess_count + 1\n",
    "\n",
    "  elif guess > number:\n",
    "    print(\"Try something lower... you have {} guesses remaining!\".format(guesses - guess_count))\n",
    "    guess_count = guess_count + 1"
   ]
  },
  {
   "cell_type": "markdown",
   "metadata": {
    "id": "q-LnqcvwrAHn"
   },
   "source": [
    "What are some ideas for improvements? \n",
    "\n",
    "- Exit on command (look up `break` and python)\n",
    "- data validation\n",
    "- input the number range from user\n",
    "- output grammar depending on number of tries"
   ]
  },
  {
   "cell_type": "markdown",
   "metadata": {
    "id": "E30uGqS-fj-n"
   },
   "source": [
    "# Whats next?\n",
    "\n",
    "### Keep Learning:\n",
    "The most important thing to do it keep learning!\n",
    "- [RSVP for Intro to Python part 2](https://www.eventbrite.com/e/webinar-intro-to-python-part-2-tickets-101843474574)\n",
    "- [How to Build a Dashboard in Python](https://www.eventbrite.com/e/how-to-build-a-dashboard-in-python-live-online-tickets-100315145300)\n",
    "- [Data Science Prep Course](https://www.galvanize.com/data-science/prep)\n",
    "- [W3School](https://www.w3schools.com/python/) \n",
    "\n",
    "See all upcoming Galvanize online events [here](https://www.hackreactor.com/webinars)\n",
    "\n",
    "### Come challenge ideas:\n",
    "- Install python locally (look into using anaconda)\n",
    "- Use jupyter notebook\n",
    "- Try re-doing fizzbuzz from memory\n",
    "- Make updates to that guessing game above\n",
    "\n",
    "\n",
    "### Stay Connected:\n",
    "- Linkedin: [https://www.linkedin.com/in/sageelliott/](https://www.linkedin.com/in/sageelliott/)\n",
    "- twitter: [@sagecodes](https://twitter.com/sagecodes)\n",
    "- email: sage.elliott@galvanize.com\n",
    "\n",
    "\n"
   ]
  },
  {
   "cell_type": "code",
   "execution_count": null,
   "metadata": {
    "id": "FfFhpUztjY1y"
   },
   "outputs": [],
   "source": []
  }
 ],
 "metadata": {
  "colab": {
   "collapsed_sections": [],
   "name": "Intro-python-part1.ipynb",
   "provenance": [],
   "toc_visible": true
  },
  "kernelspec": {
   "display_name": "Python 3",
   "language": "python",
   "name": "python3"
  },
  "language_info": {
   "codemirror_mode": {
    "name": "ipython",
    "version": 3
   },
   "file_extension": ".py",
   "mimetype": "text/x-python",
   "name": "python",
   "nbconvert_exporter": "python",
   "pygments_lexer": "ipython3",
   "version": "3.7.6"
  }
 },
 "nbformat": 4,
 "nbformat_minor": 1
}
